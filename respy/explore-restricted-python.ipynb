{
 "cells": [
  {
   "cell_type": "code",
   "execution_count": 1,
   "metadata": {},
   "outputs": [],
   "source": [
    "from RestrictedPython import compile_restricted\n",
    "from RestrictedPython import safe_builtins\n",
    "from RestrictedPython import utility_builtins\n",
    "\n",
    "from allowed import lsst_builtins  # Whitelisted modules"
   ]
  },
  {
   "cell_type": "code",
   "execution_count": 2,
   "metadata": {},
   "outputs": [],
   "source": [
    "safe_locals = {'__builtins__': {**lsst_builtins, **safe_builtins, **utility_builtins}}"
   ]
  },
  {
   "cell_type": "markdown",
   "metadata": {},
   "source": [
    "## Define a function to run a filter in restricted mode."
   ]
  },
  {
   "cell_type": "code",
   "execution_count": 3,
   "metadata": {},
   "outputs": [],
   "source": [
    "def runFilterRestricted(source_code):\n",
    "    byte_code = compile_restricted(\n",
    "        source_code,\n",
    "        filename='<inline code>',\n",
    "        mode='exec'\n",
    "        )\n",
    "    loc={}\n",
    "\n",
    "    exec(byte_code, safe_locals, loc)\n",
    "\n",
    "    return(loc['run_filter']())"
   ]
  },
  {
   "cell_type": "markdown",
   "metadata": {},
   "source": [
    "## Define a function to run a filter unrestricted.\n",
    "To show that the function is generally valid for comparison."
   ]
  },
  {
   "cell_type": "code",
   "execution_count": 4,
   "metadata": {},
   "outputs": [],
   "source": [
    "def runFilterUnrestricted(source_code):\n",
    "    byte_code = compile(\n",
    "        source_code,\n",
    "        filename='<inline code>',\n",
    "        mode='exec'\n",
    "        )\n",
    "    loc={}\n",
    "\n",
    "    exec(byte_code, globals(), loc)\n",
    "\n",
    "    return(loc['run_filter']())"
   ]
  },
  {
   "cell_type": "markdown",
   "metadata": {},
   "source": [
    "## Capabilities we may want to block\n",
    "\n",
    "* Using os or other imported packages\n",
    "* Looking for local files\n",
    "* Executing files\n",
    "* Opening local files\n",
    "* Writing to files on disk\n",
    "* Writing to stdout"
   ]
  },
  {
   "cell_type": "markdown",
   "metadata": {},
   "source": [
    "#### os"
   ]
  },
  {
   "cell_type": "code",
   "execution_count": 5,
   "metadata": {},
   "outputs": [],
   "source": [
    "test_os = \"\"\"\n",
    "def run_filter():\n",
    "    import os\n",
    "    return (os.listdir()) \n",
    "\"\"\""
   ]
  },
  {
   "cell_type": "markdown",
   "metadata": {},
   "source": [
    "Test the above function works without RestrictedPython enabled:"
   ]
  },
  {
   "cell_type": "code",
   "execution_count": 6,
   "metadata": {},
   "outputs": [
    {
     "name": "stdout",
     "output_type": "stream",
     "text": [
      "['setup_profile', 'filter1.py', 'Dockerfile', 'Dockerfile-python', 'pandas-test.csv', 'allowed.py', 'explore-restricted-python.ipynb', '__pycache__', 'junk.py', 'example.py', 'hello-world.py', '.ipynb_checkpoints', 'run_setup.sh', 'test-run.py', 'output.txt', 'stamp-676.fits']\n"
     ]
    }
   ],
   "source": [
    "print(runFilterUnrestricted(test_os))"
   ]
  },
  {
   "cell_type": "markdown",
   "metadata": {},
   "source": [
    "Test with RestrictedPython enabled:"
   ]
  },
  {
   "cell_type": "code",
   "execution_count": 7,
   "metadata": {},
   "outputs": [
    {
     "ename": "ImportError",
     "evalue": "__import__ not found",
     "output_type": "error",
     "traceback": [
      "\u001b[0;31m---------------------------------------------------------------------------\u001b[0m",
      "\u001b[0;31mImportError\u001b[0m                               Traceback (most recent call last)",
      "\u001b[0;32m<ipython-input-7-934c9a404b9c>\u001b[0m in \u001b[0;36m<module>\u001b[0;34m()\u001b[0m\n\u001b[0;32m----> 1\u001b[0;31m \u001b[0mprint\u001b[0m\u001b[0;34m(\u001b[0m\u001b[0mrunFilterRestricted\u001b[0m\u001b[0;34m(\u001b[0m\u001b[0mtest_os\u001b[0m\u001b[0;34m)\u001b[0m\u001b[0;34m)\u001b[0m\u001b[0;34m\u001b[0m\u001b[0m\n\u001b[0m",
      "\u001b[0;32m<ipython-input-3-bffb7c99d944>\u001b[0m in \u001b[0;36mrunFilterRestricted\u001b[0;34m(source_code)\u001b[0m\n\u001b[1;32m      9\u001b[0m     \u001b[0mexec\u001b[0m\u001b[0;34m(\u001b[0m\u001b[0mbyte_code\u001b[0m\u001b[0;34m,\u001b[0m \u001b[0msafe_locals\u001b[0m\u001b[0;34m,\u001b[0m \u001b[0mloc\u001b[0m\u001b[0;34m)\u001b[0m\u001b[0;34m\u001b[0m\u001b[0m\n\u001b[1;32m     10\u001b[0m \u001b[0;34m\u001b[0m\u001b[0m\n\u001b[0;32m---> 11\u001b[0;31m     \u001b[0;32mreturn\u001b[0m\u001b[0;34m(\u001b[0m\u001b[0mloc\u001b[0m\u001b[0;34m[\u001b[0m\u001b[0;34m'run_filter'\u001b[0m\u001b[0;34m]\u001b[0m\u001b[0;34m(\u001b[0m\u001b[0;34m)\u001b[0m\u001b[0;34m)\u001b[0m\u001b[0;34m\u001b[0m\u001b[0m\n\u001b[0m",
      "\u001b[0;32m<inline code>\u001b[0m in \u001b[0;36mrun_filter\u001b[0;34m()\u001b[0m\n",
      "\u001b[0;31mImportError\u001b[0m: __import__ not found"
     ]
    }
   ],
   "source": [
    "print(runFilterRestricted(test_os))"
   ]
  },
  {
   "cell_type": "markdown",
   "metadata": {},
   "source": [
    "#### glob"
   ]
  },
  {
   "cell_type": "code",
   "execution_count": 8,
   "metadata": {},
   "outputs": [],
   "source": [
    "test_glob = \"\"\"\n",
    "def run_filter():\n",
    "    import glob  \n",
    "    return(glob.glob(\"*\"))\n",
    "\"\"\""
   ]
  },
  {
   "cell_type": "markdown",
   "metadata": {},
   "source": [
    "Unrestricted:"
   ]
  },
  {
   "cell_type": "code",
   "execution_count": 9,
   "metadata": {},
   "outputs": [
    {
     "name": "stdout",
     "output_type": "stream",
     "text": [
      "['setup_profile', 'filter1.py', 'Dockerfile', 'Dockerfile-python', 'pandas-test.csv', 'allowed.py', 'explore-restricted-python.ipynb', '__pycache__', 'junk.py', 'example.py', 'hello-world.py', 'run_setup.sh', 'test-run.py', 'output.txt', 'stamp-676.fits']\n"
     ]
    }
   ],
   "source": [
    "print(runFilterUnrestricted(test_glob))"
   ]
  },
  {
   "cell_type": "markdown",
   "metadata": {},
   "source": [
    "Restricted:"
   ]
  },
  {
   "cell_type": "code",
   "execution_count": 10,
   "metadata": {},
   "outputs": [
    {
     "ename": "ImportError",
     "evalue": "__import__ not found",
     "output_type": "error",
     "traceback": [
      "\u001b[0;31m---------------------------------------------------------------------------\u001b[0m",
      "\u001b[0;31mImportError\u001b[0m                               Traceback (most recent call last)",
      "\u001b[0;32m<ipython-input-10-2c627e5c0358>\u001b[0m in \u001b[0;36m<module>\u001b[0;34m()\u001b[0m\n\u001b[0;32m----> 1\u001b[0;31m \u001b[0mprint\u001b[0m\u001b[0;34m(\u001b[0m\u001b[0mrunFilterRestricted\u001b[0m\u001b[0;34m(\u001b[0m\u001b[0mtest_glob\u001b[0m\u001b[0;34m)\u001b[0m\u001b[0;34m)\u001b[0m\u001b[0;34m\u001b[0m\u001b[0m\n\u001b[0m",
      "\u001b[0;32m<ipython-input-3-bffb7c99d944>\u001b[0m in \u001b[0;36mrunFilterRestricted\u001b[0;34m(source_code)\u001b[0m\n\u001b[1;32m      9\u001b[0m     \u001b[0mexec\u001b[0m\u001b[0;34m(\u001b[0m\u001b[0mbyte_code\u001b[0m\u001b[0;34m,\u001b[0m \u001b[0msafe_locals\u001b[0m\u001b[0;34m,\u001b[0m \u001b[0mloc\u001b[0m\u001b[0;34m)\u001b[0m\u001b[0;34m\u001b[0m\u001b[0m\n\u001b[1;32m     10\u001b[0m \u001b[0;34m\u001b[0m\u001b[0m\n\u001b[0;32m---> 11\u001b[0;31m     \u001b[0;32mreturn\u001b[0m\u001b[0;34m(\u001b[0m\u001b[0mloc\u001b[0m\u001b[0;34m[\u001b[0m\u001b[0;34m'run_filter'\u001b[0m\u001b[0;34m]\u001b[0m\u001b[0;34m(\u001b[0m\u001b[0;34m)\u001b[0m\u001b[0;34m)\u001b[0m\u001b[0;34m\u001b[0m\u001b[0m\n\u001b[0m",
      "\u001b[0;32m<inline code>\u001b[0m in \u001b[0;36mrun_filter\u001b[0;34m()\u001b[0m\n",
      "\u001b[0;31mImportError\u001b[0m: __import__ not found"
     ]
    }
   ],
   "source": [
    "print(runFilterRestricted(test_glob))"
   ]
  },
  {
   "cell_type": "markdown",
   "metadata": {},
   "source": [
    "#### pathlib"
   ]
  },
  {
   "cell_type": "code",
   "execution_count": 11,
   "metadata": {},
   "outputs": [],
   "source": [
    "test_pathlib = \"\"\"\n",
    "def run_filter():\n",
    "    from pathlib import Path\n",
    "\n",
    "    my_file = Path(\"/home/respy/allowed.py\")\n",
    "    if my_file.is_file():\n",
    "        return True\n",
    "    else:\n",
    "        return False\n",
    "\"\"\""
   ]
  },
  {
   "cell_type": "markdown",
   "metadata": {},
   "source": [
    "Unrestricted:"
   ]
  },
  {
   "cell_type": "code",
   "execution_count": 12,
   "metadata": {},
   "outputs": [
    {
     "name": "stdout",
     "output_type": "stream",
     "text": [
      "True\n"
     ]
    }
   ],
   "source": [
    "print(runFilterUnrestricted(test_pathlib))"
   ]
  },
  {
   "cell_type": "markdown",
   "metadata": {},
   "source": [
    "Restricted:"
   ]
  },
  {
   "cell_type": "code",
   "execution_count": 13,
   "metadata": {},
   "outputs": [
    {
     "ename": "ImportError",
     "evalue": "__import__ not found",
     "output_type": "error",
     "traceback": [
      "\u001b[0;31m---------------------------------------------------------------------------\u001b[0m",
      "\u001b[0;31mImportError\u001b[0m                               Traceback (most recent call last)",
      "\u001b[0;32m<ipython-input-13-7855385d5b7a>\u001b[0m in \u001b[0;36m<module>\u001b[0;34m()\u001b[0m\n\u001b[0;32m----> 1\u001b[0;31m \u001b[0mprint\u001b[0m\u001b[0;34m(\u001b[0m\u001b[0mrunFilterRestricted\u001b[0m\u001b[0;34m(\u001b[0m\u001b[0mtest_pathlib\u001b[0m\u001b[0;34m)\u001b[0m\u001b[0;34m)\u001b[0m\u001b[0;34m\u001b[0m\u001b[0m\n\u001b[0m",
      "\u001b[0;32m<ipython-input-3-bffb7c99d944>\u001b[0m in \u001b[0;36mrunFilterRestricted\u001b[0;34m(source_code)\u001b[0m\n\u001b[1;32m      9\u001b[0m     \u001b[0mexec\u001b[0m\u001b[0;34m(\u001b[0m\u001b[0mbyte_code\u001b[0m\u001b[0;34m,\u001b[0m \u001b[0msafe_locals\u001b[0m\u001b[0;34m,\u001b[0m \u001b[0mloc\u001b[0m\u001b[0;34m)\u001b[0m\u001b[0;34m\u001b[0m\u001b[0m\n\u001b[1;32m     10\u001b[0m \u001b[0;34m\u001b[0m\u001b[0m\n\u001b[0;32m---> 11\u001b[0;31m     \u001b[0;32mreturn\u001b[0m\u001b[0;34m(\u001b[0m\u001b[0mloc\u001b[0m\u001b[0;34m[\u001b[0m\u001b[0;34m'run_filter'\u001b[0m\u001b[0;34m]\u001b[0m\u001b[0;34m(\u001b[0m\u001b[0;34m)\u001b[0m\u001b[0;34m)\u001b[0m\u001b[0;34m\u001b[0m\u001b[0m\n\u001b[0m",
      "\u001b[0;32m<inline code>\u001b[0m in \u001b[0;36mrun_filter\u001b[0;34m()\u001b[0m\n",
      "\u001b[0;31mImportError\u001b[0m: __import__ not found"
     ]
    }
   ],
   "source": [
    "print(runFilterRestricted(test_pathlib))"
   ]
  },
  {
   "cell_type": "markdown",
   "metadata": {},
   "source": [
    "#### subprocess"
   ]
  },
  {
   "cell_type": "code",
   "execution_count": 14,
   "metadata": {},
   "outputs": [],
   "source": [
    "test_subprocess = \"\"\"\n",
    "def run_filter():\n",
    "    bashCommand = \"ls /\"\n",
    "    import subprocess\n",
    "    process = subprocess.Popen(bashCommand.split(), stdout=subprocess.PIPE)\n",
    "    output, error = process.communicate()\n",
    "    return output\n",
    "\"\"\""
   ]
  },
  {
   "cell_type": "markdown",
   "metadata": {},
   "source": [
    "Unrestricted:"
   ]
  },
  {
   "cell_type": "code",
   "execution_count": 15,
   "metadata": {},
   "outputs": [
    {
     "name": "stdout",
     "output_type": "stream",
     "text": [
      "b'anaconda-post.log\\nbin\\nboot\\ndev\\netc\\nhome\\nlib\\nlib64\\nmedia\\nmnt\\nopt\\npacker-files\\nproc\\nroot\\nrun\\nsbin\\nsrv\\nsys\\ntmp\\nusr\\nvar\\n'\n"
     ]
    }
   ],
   "source": [
    "print(runFilterUnrestricted(test_subprocess))"
   ]
  },
  {
   "cell_type": "markdown",
   "metadata": {},
   "source": [
    "Restricted:"
   ]
  },
  {
   "cell_type": "code",
   "execution_count": 16,
   "metadata": {},
   "outputs": [
    {
     "ename": "ImportError",
     "evalue": "__import__ not found",
     "output_type": "error",
     "traceback": [
      "\u001b[0;31m---------------------------------------------------------------------------\u001b[0m",
      "\u001b[0;31mImportError\u001b[0m                               Traceback (most recent call last)",
      "\u001b[0;32m<ipython-input-16-6ae6960cde63>\u001b[0m in \u001b[0;36m<module>\u001b[0;34m()\u001b[0m\n\u001b[0;32m----> 1\u001b[0;31m \u001b[0mprint\u001b[0m\u001b[0;34m(\u001b[0m\u001b[0mrunFilterRestricted\u001b[0m\u001b[0;34m(\u001b[0m\u001b[0mtest_subprocess\u001b[0m\u001b[0;34m)\u001b[0m\u001b[0;34m)\u001b[0m\u001b[0;34m\u001b[0m\u001b[0m\n\u001b[0m",
      "\u001b[0;32m<ipython-input-3-bffb7c99d944>\u001b[0m in \u001b[0;36mrunFilterRestricted\u001b[0;34m(source_code)\u001b[0m\n\u001b[1;32m      9\u001b[0m     \u001b[0mexec\u001b[0m\u001b[0;34m(\u001b[0m\u001b[0mbyte_code\u001b[0m\u001b[0;34m,\u001b[0m \u001b[0msafe_locals\u001b[0m\u001b[0;34m,\u001b[0m \u001b[0mloc\u001b[0m\u001b[0;34m)\u001b[0m\u001b[0;34m\u001b[0m\u001b[0m\n\u001b[1;32m     10\u001b[0m \u001b[0;34m\u001b[0m\u001b[0m\n\u001b[0;32m---> 11\u001b[0;31m     \u001b[0;32mreturn\u001b[0m\u001b[0;34m(\u001b[0m\u001b[0mloc\u001b[0m\u001b[0;34m[\u001b[0m\u001b[0;34m'run_filter'\u001b[0m\u001b[0;34m]\u001b[0m\u001b[0;34m(\u001b[0m\u001b[0;34m)\u001b[0m\u001b[0;34m)\u001b[0m\u001b[0;34m\u001b[0m\u001b[0m\n\u001b[0m",
      "\u001b[0;32m<inline code>\u001b[0m in \u001b[0;36mrun_filter\u001b[0;34m()\u001b[0m\n",
      "\u001b[0;31mImportError\u001b[0m: __import__ not found"
     ]
    }
   ],
   "source": [
    "print(runFilterRestricted(test_subprocess))"
   ]
  },
  {
   "cell_type": "markdown",
   "metadata": {},
   "source": [
    "### Generally, importing modules does not work, which takes care of packages such as sys, os, subprocess, glob, multiprocessing, threading, psutil (killing processes, etc.), and others that may be problematic."
   ]
  },
  {
   "cell_type": "markdown",
   "metadata": {},
   "source": [
    "#### exec"
   ]
  },
  {
   "cell_type": "code",
   "execution_count": 17,
   "metadata": {},
   "outputs": [],
   "source": [
    "test_execfile = \"\"\"\n",
    "def run_filter():\n",
    "    return exec(open('hello-world.py').read())\n",
    "\"\"\""
   ]
  },
  {
   "cell_type": "markdown",
   "metadata": {},
   "source": [
    "Unrestricted:"
   ]
  },
  {
   "cell_type": "code",
   "execution_count": 18,
   "metadata": {},
   "outputs": [
    {
     "name": "stdout",
     "output_type": "stream",
     "text": [
      "hello world\n"
     ]
    }
   ],
   "source": [
    "runFilterUnrestricted(test_execfile)"
   ]
  },
  {
   "cell_type": "markdown",
   "metadata": {},
   "source": [
    "Restricted:"
   ]
  },
  {
   "cell_type": "code",
   "execution_count": 19,
   "metadata": {},
   "outputs": [
    {
     "ename": "SyntaxError",
     "evalue": "('Line 3: Exec calls are not allowed.',) (<string>)",
     "output_type": "error",
     "traceback": [
      "Traceback \u001b[0;36m(most recent call last)\u001b[0m:\n",
      "  File \u001b[1;32m\"/opt/lsst/software/stack/python/miniconda3-4.3.21/lib/python3.6/site-packages/IPython/core/interactiveshell.py\"\u001b[0m, line \u001b[1;32m2963\u001b[0m, in \u001b[1;35mrun_code\u001b[0m\n    exec(code_obj, self.user_global_ns, self.user_ns)\n",
      "  File \u001b[1;32m\"<ipython-input-19-457340353827>\"\u001b[0m, line \u001b[1;32m1\u001b[0m, in \u001b[1;35m<module>\u001b[0m\n    print(runFilterRestricted(test_execfile))\n",
      "  File \u001b[1;32m\"<ipython-input-3-bffb7c99d944>\"\u001b[0m, line \u001b[1;32m5\u001b[0m, in \u001b[1;35mrunFilterRestricted\u001b[0m\n    mode='exec'\n",
      "\u001b[0;36m  File \u001b[0;32m\"/opt/lsst/software/stack/python/miniconda3-4.3.21/lib/python3.6/site-packages/RestrictedPython/compile.py\"\u001b[0;36m, line \u001b[0;32m205\u001b[0;36m, in \u001b[0;35mcompile_restricted\u001b[0;36m\u001b[0m\n\u001b[0;31m    raise SyntaxError(result.errors)\u001b[0m\n",
      "\u001b[0;36m  File \u001b[0;32m\"<string>\"\u001b[0;36m, line \u001b[0;32munknown\u001b[0m\n\u001b[0;31mSyntaxError\u001b[0m\u001b[0;31m:\u001b[0m ('Line 3: Exec calls are not allowed.',)\n"
     ]
    }
   ],
   "source": [
    "print(runFilterRestricted(test_execfile))"
   ]
  },
  {
   "cell_type": "markdown",
   "metadata": {},
   "source": [
    "#### reading a file"
   ]
  },
  {
   "cell_type": "code",
   "execution_count": 20,
   "metadata": {},
   "outputs": [],
   "source": [
    "test_openfile = \"\"\"\n",
    "def run_filter():\n",
    "    with open('hello-world.py') as f:\n",
    "        stuff = f.read()\n",
    "    return stuff\n",
    "\"\"\""
   ]
  },
  {
   "cell_type": "markdown",
   "metadata": {},
   "source": [
    "Unrestricted:"
   ]
  },
  {
   "cell_type": "code",
   "execution_count": 21,
   "metadata": {},
   "outputs": [
    {
     "name": "stdout",
     "output_type": "stream",
     "text": [
      "def run_filter():\n",
      "    return 'hello world'\n",
      "\n",
      "print(run_filter())\n",
      "\n"
     ]
    }
   ],
   "source": [
    "print(runFilterUnrestricted(test_openfile))"
   ]
  },
  {
   "cell_type": "markdown",
   "metadata": {},
   "source": [
    "Restricted:"
   ]
  },
  {
   "cell_type": "code",
   "execution_count": 22,
   "metadata": {},
   "outputs": [
    {
     "ename": "NameError",
     "evalue": "name 'open' is not defined",
     "output_type": "error",
     "traceback": [
      "\u001b[0;31m---------------------------------------------------------------------------\u001b[0m",
      "\u001b[0;31mNameError\u001b[0m                                 Traceback (most recent call last)",
      "\u001b[0;32m<ipython-input-22-0308b07713da>\u001b[0m in \u001b[0;36m<module>\u001b[0;34m()\u001b[0m\n\u001b[0;32m----> 1\u001b[0;31m \u001b[0mprint\u001b[0m\u001b[0;34m(\u001b[0m\u001b[0mrunFilterRestricted\u001b[0m\u001b[0;34m(\u001b[0m\u001b[0mtest_openfile\u001b[0m\u001b[0;34m)\u001b[0m\u001b[0;34m)\u001b[0m\u001b[0;34m\u001b[0m\u001b[0m\n\u001b[0m",
      "\u001b[0;32m<ipython-input-3-bffb7c99d944>\u001b[0m in \u001b[0;36mrunFilterRestricted\u001b[0;34m(source_code)\u001b[0m\n\u001b[1;32m      9\u001b[0m     \u001b[0mexec\u001b[0m\u001b[0;34m(\u001b[0m\u001b[0mbyte_code\u001b[0m\u001b[0;34m,\u001b[0m \u001b[0msafe_locals\u001b[0m\u001b[0;34m,\u001b[0m \u001b[0mloc\u001b[0m\u001b[0;34m)\u001b[0m\u001b[0;34m\u001b[0m\u001b[0m\n\u001b[1;32m     10\u001b[0m \u001b[0;34m\u001b[0m\u001b[0m\n\u001b[0;32m---> 11\u001b[0;31m     \u001b[0;32mreturn\u001b[0m\u001b[0;34m(\u001b[0m\u001b[0mloc\u001b[0m\u001b[0;34m[\u001b[0m\u001b[0;34m'run_filter'\u001b[0m\u001b[0;34m]\u001b[0m\u001b[0;34m(\u001b[0m\u001b[0;34m)\u001b[0m\u001b[0;34m)\u001b[0m\u001b[0;34m\u001b[0m\u001b[0m\n\u001b[0m",
      "\u001b[0;32m<inline code>\u001b[0m in \u001b[0;36mrun_filter\u001b[0;34m()\u001b[0m\n",
      "\u001b[0;31mNameError\u001b[0m: name 'open' is not defined"
     ]
    }
   ],
   "source": [
    "print(runFilterRestricted(test_openfile))"
   ]
  },
  {
   "cell_type": "markdown",
   "metadata": {},
   "source": [
    "#### writing a file"
   ]
  },
  {
   "cell_type": "code",
   "execution_count": 23,
   "metadata": {},
   "outputs": [],
   "source": [
    "test_writedisk = \"\"\"\n",
    "def run_filter():\n",
    "    with open('output.txt', 'a') as f:\n",
    "        f.write('Hello')\n",
    "\"\"\""
   ]
  },
  {
   "cell_type": "markdown",
   "metadata": {},
   "source": [
    "Unrestricted (output file written):"
   ]
  },
  {
   "cell_type": "code",
   "execution_count": 24,
   "metadata": {},
   "outputs": [
    {
     "name": "stdout",
     "output_type": "stream",
     "text": [
      "None\n"
     ]
    }
   ],
   "source": [
    "print(runFilterUnrestricted(test_writedisk))"
   ]
  },
  {
   "cell_type": "markdown",
   "metadata": {},
   "source": [
    "Restricted:"
   ]
  },
  {
   "cell_type": "code",
   "execution_count": 25,
   "metadata": {},
   "outputs": [
    {
     "ename": "NameError",
     "evalue": "name 'open' is not defined",
     "output_type": "error",
     "traceback": [
      "\u001b[0;31m---------------------------------------------------------------------------\u001b[0m",
      "\u001b[0;31mNameError\u001b[0m                                 Traceback (most recent call last)",
      "\u001b[0;32m<ipython-input-25-949f8d0d6104>\u001b[0m in \u001b[0;36m<module>\u001b[0;34m()\u001b[0m\n\u001b[0;32m----> 1\u001b[0;31m \u001b[0mprint\u001b[0m\u001b[0;34m(\u001b[0m\u001b[0mrunFilterRestricted\u001b[0m\u001b[0;34m(\u001b[0m\u001b[0mtest_writedisk\u001b[0m\u001b[0;34m)\u001b[0m\u001b[0;34m)\u001b[0m\u001b[0;34m\u001b[0m\u001b[0m\n\u001b[0m",
      "\u001b[0;32m<ipython-input-3-bffb7c99d944>\u001b[0m in \u001b[0;36mrunFilterRestricted\u001b[0;34m(source_code)\u001b[0m\n\u001b[1;32m      9\u001b[0m     \u001b[0mexec\u001b[0m\u001b[0;34m(\u001b[0m\u001b[0mbyte_code\u001b[0m\u001b[0;34m,\u001b[0m \u001b[0msafe_locals\u001b[0m\u001b[0;34m,\u001b[0m \u001b[0mloc\u001b[0m\u001b[0;34m)\u001b[0m\u001b[0;34m\u001b[0m\u001b[0m\n\u001b[1;32m     10\u001b[0m \u001b[0;34m\u001b[0m\u001b[0m\n\u001b[0;32m---> 11\u001b[0;31m     \u001b[0;32mreturn\u001b[0m\u001b[0;34m(\u001b[0m\u001b[0mloc\u001b[0m\u001b[0;34m[\u001b[0m\u001b[0;34m'run_filter'\u001b[0m\u001b[0;34m]\u001b[0m\u001b[0;34m(\u001b[0m\u001b[0;34m)\u001b[0m\u001b[0;34m)\u001b[0m\u001b[0;34m\u001b[0m\u001b[0m\n\u001b[0m",
      "\u001b[0;32m<inline code>\u001b[0m in \u001b[0;36mrun_filter\u001b[0;34m()\u001b[0m\n",
      "\u001b[0;31mNameError\u001b[0m: name 'open' is not defined"
     ]
    }
   ],
   "source": [
    "print(runFilterRestricted(test_writedisk))"
   ]
  },
  {
   "cell_type": "markdown",
   "metadata": {},
   "source": [
    "#### write to screen"
   ]
  },
  {
   "cell_type": "code",
   "execution_count": 26,
   "metadata": {},
   "outputs": [],
   "source": [
    "test_writescreen = \"\"\"\n",
    "def run_filter():\n",
    "    print('hello world')\n",
    "\"\"\""
   ]
  },
  {
   "cell_type": "markdown",
   "metadata": {},
   "source": [
    "Unrestricted:"
   ]
  },
  {
   "cell_type": "code",
   "execution_count": 27,
   "metadata": {},
   "outputs": [
    {
     "name": "stdout",
     "output_type": "stream",
     "text": [
      "hello world\n"
     ]
    }
   ],
   "source": [
    "runFilterUnrestricted(test_writescreen)"
   ]
  },
  {
   "cell_type": "markdown",
   "metadata": {},
   "source": [
    "Restricted:"
   ]
  },
  {
   "cell_type": "code",
   "execution_count": 28,
   "metadata": {},
   "outputs": [
    {
     "name": "stderr",
     "output_type": "stream",
     "text": [
      "/opt/lsst/software/stack/python/miniconda3-4.3.21/lib/python3.6/site-packages/RestrictedPython/compile.py:202: SyntaxWarning: Line 2: Prints, but never reads 'printed' variable.\n",
      "  SyntaxWarning\n"
     ]
    },
    {
     "ename": "NameError",
     "evalue": "name '_print_' is not defined",
     "output_type": "error",
     "traceback": [
      "\u001b[0;31m---------------------------------------------------------------------------\u001b[0m",
      "\u001b[0;31mNameError\u001b[0m                                 Traceback (most recent call last)",
      "\u001b[0;32m<ipython-input-28-8d724c17d847>\u001b[0m in \u001b[0;36m<module>\u001b[0;34m()\u001b[0m\n\u001b[0;32m----> 1\u001b[0;31m \u001b[0mprint\u001b[0m\u001b[0;34m(\u001b[0m\u001b[0mrunFilterRestricted\u001b[0m\u001b[0;34m(\u001b[0m\u001b[0mtest_writescreen\u001b[0m\u001b[0;34m)\u001b[0m\u001b[0;34m)\u001b[0m\u001b[0;34m\u001b[0m\u001b[0m\n\u001b[0m",
      "\u001b[0;32m<ipython-input-3-bffb7c99d944>\u001b[0m in \u001b[0;36mrunFilterRestricted\u001b[0;34m(source_code)\u001b[0m\n\u001b[1;32m      9\u001b[0m     \u001b[0mexec\u001b[0m\u001b[0;34m(\u001b[0m\u001b[0mbyte_code\u001b[0m\u001b[0;34m,\u001b[0m \u001b[0msafe_locals\u001b[0m\u001b[0;34m,\u001b[0m \u001b[0mloc\u001b[0m\u001b[0;34m)\u001b[0m\u001b[0;34m\u001b[0m\u001b[0m\n\u001b[1;32m     10\u001b[0m \u001b[0;34m\u001b[0m\u001b[0m\n\u001b[0;32m---> 11\u001b[0;31m     \u001b[0;32mreturn\u001b[0m\u001b[0;34m(\u001b[0m\u001b[0mloc\u001b[0m\u001b[0;34m[\u001b[0m\u001b[0;34m'run_filter'\u001b[0m\u001b[0;34m]\u001b[0m\u001b[0;34m(\u001b[0m\u001b[0;34m)\u001b[0m\u001b[0;34m)\u001b[0m\u001b[0;34m\u001b[0m\u001b[0m\n\u001b[0m",
      "\u001b[0;32m<inline code>\u001b[0m in \u001b[0;36mrun_filter\u001b[0;34m()\u001b[0m\n",
      "\u001b[0;31mNameError\u001b[0m: name '_print_' is not defined"
     ]
    }
   ],
   "source": [
    "print(runFilterRestricted(test_writescreen))"
   ]
  },
  {
   "cell_type": "markdown",
   "metadata": {},
   "source": [
    "## Capabilities we may want to allow even when running in restricted mode\n",
    "\n",
    "* math\n",
    "* random\n",
    "* numpy\n",
    "* scipy\n",
    "* pandas\n",
    "* sklearn\n",
    "* astropy packages (for stamps)\n",
    "* lsst packages (for stamps)"
   ]
  },
  {
   "cell_type": "markdown",
   "metadata": {},
   "source": [
    "#### math"
   ]
  },
  {
   "cell_type": "code",
   "execution_count": 29,
   "metadata": {},
   "outputs": [],
   "source": [
    "test_math= \"\"\"\n",
    "def run_filter():\n",
    "    return(math.floor(4.8))\n",
    "\"\"\""
   ]
  },
  {
   "cell_type": "code",
   "execution_count": 30,
   "metadata": {},
   "outputs": [
    {
     "name": "stdout",
     "output_type": "stream",
     "text": [
      "4\n"
     ]
    }
   ],
   "source": [
    "print(runFilterRestricted(test_math))"
   ]
  },
  {
   "cell_type": "markdown",
   "metadata": {},
   "source": [
    "#### random"
   ]
  },
  {
   "cell_type": "code",
   "execution_count": 31,
   "metadata": {},
   "outputs": [],
   "source": [
    "test_random = \"\"\"\n",
    "def run_filter():\n",
    "    return(random.random())\n",
    "\"\"\""
   ]
  },
  {
   "cell_type": "code",
   "execution_count": 32,
   "metadata": {},
   "outputs": [
    {
     "name": "stdout",
     "output_type": "stream",
     "text": [
      "0.6396843271259767\n"
     ]
    }
   ],
   "source": [
    "print(runFilterRestricted(test_random))"
   ]
  },
  {
   "cell_type": "markdown",
   "metadata": {},
   "source": [
    "#### numpy"
   ]
  },
  {
   "cell_type": "code",
   "execution_count": 33,
   "metadata": {},
   "outputs": [],
   "source": [
    "test_numpy = \"\"\"\n",
    "def run_filter():\n",
    "    return(numpy.mean([1,2,3,4,5]))\n",
    "\"\"\""
   ]
  },
  {
   "cell_type": "code",
   "execution_count": 34,
   "metadata": {},
   "outputs": [
    {
     "name": "stdout",
     "output_type": "stream",
     "text": [
      "3.0\n"
     ]
    }
   ],
   "source": [
    "print(runFilterRestricted(test_numpy))"
   ]
  },
  {
   "cell_type": "markdown",
   "metadata": {},
   "source": [
    "#### scipy"
   ]
  },
  {
   "cell_type": "code",
   "execution_count": 35,
   "metadata": {},
   "outputs": [],
   "source": [
    "test_scipy = \"\"\"\n",
    "def run_filter():\n",
    "    f = lambda x: -scipy.special.jv(3, x)\n",
    "    sol = scipy.optimize.minimize(f, 1.0)\n",
    "    return sol\n",
    "\"\"\""
   ]
  },
  {
   "cell_type": "code",
   "execution_count": 36,
   "metadata": {},
   "outputs": [
    {
     "name": "stdout",
     "output_type": "stream",
     "text": [
      "      fun: -0.43439442684052315\n",
      " hess_inv: array([[ 56.41708509]])\n",
      "      jac: array([  3.35276127e-08])\n",
      "  message: 'Optimization terminated successfully.'\n",
      "     nfev: 27\n",
      "      nit: 2\n",
      "     njev: 9\n",
      "   status: 0\n",
      "  success: True\n",
      "        x: array([ 4.20118907])\n"
     ]
    }
   ],
   "source": [
    "print(runFilterRestricted(test_scipy))"
   ]
  },
  {
   "cell_type": "markdown",
   "metadata": {},
   "source": [
    "#### pandas"
   ]
  },
  {
   "cell_type": "code",
   "execution_count": 37,
   "metadata": {},
   "outputs": [],
   "source": [
    "test_pandas = \"\"\"\n",
    "def run_filter():\n",
    "    d = {'col1': [1, 2], 'col2': [3, 4]}\n",
    "    df = pandas.DataFrame(data=d)\n",
    "    return df\n",
    "\"\"\""
   ]
  },
  {
   "cell_type": "code",
   "execution_count": 38,
   "metadata": {},
   "outputs": [
    {
     "name": "stdout",
     "output_type": "stream",
     "text": [
      "   col1  col2\n",
      "0     1     3\n",
      "1     2     4\n"
     ]
    }
   ],
   "source": [
    "print(runFilterRestricted(test_pandas))"
   ]
  },
  {
   "cell_type": "markdown",
   "metadata": {},
   "source": [
    "### Running functions within pandas let's you circumvent restricted operations like reading and writing to disk. We may or may not want to restrict this.  "
   ]
  },
  {
   "cell_type": "code",
   "execution_count": 39,
   "metadata": {},
   "outputs": [],
   "source": [
    "test_pandasread = \"\"\"\n",
    "def run_filter():\n",
    "    df = pandas.read_csv('allowed.py')\n",
    "    return df\n",
    "\"\"\""
   ]
  },
  {
   "cell_type": "code",
   "execution_count": 40,
   "metadata": {},
   "outputs": [
    {
     "name": "stdout",
     "output_type": "stream",
     "text": [
      "                                        import numpy\n",
      "0                                       import scipy\n",
      "1                                      import pandas\n",
      "2                                      import random\n",
      "3                                     import sklearn\n",
      "4                                 import sklearn.svm\n",
      "5                                     import astropy\n",
      "6                                  import astropy.io\n",
      "7                                        import lsst\n",
      "8                                    import lsst.afw\n",
      "9                               import lsst.afw.math\n",
      "10                             import lsst.afw.image\n",
      "11                                lsst_builtins = {}\n",
      "12                    lsst_builtins['numpy'] = numpy\n",
      "13                    lsst_builtins['scipy'] = scipy\n",
      "14                  lsst_builtins['pandas'] = pandas\n",
      "15                  lsst_builtins['random'] = random\n",
      "16                lsst_builtins['sklearn'] = sklearn\n",
      "17        lsst_builtins['sklearn.svm'] = sklearn.svm\n",
      "18                lsst_builtins['astropy'] = astropy\n",
      "19          lsst_builtins['astropy.io'] = astropy.io\n",
      "20                      lsst_builtins['lsst'] = lsst\n",
      "21              lsst_builtins['lsst.afw'] = lsst.afw\n",
      "22    lsst_builtins['lsst.afw.math'] = lsst.afw.math\n",
      "23  lsst_builtins['lsst.afw.image'] = lsst.afw.image\n"
     ]
    }
   ],
   "source": [
    "print(runFilterRestricted(test_pandasread))"
   ]
  },
  {
   "cell_type": "code",
   "execution_count": 41,
   "metadata": {},
   "outputs": [],
   "source": [
    "test_pandaswrite = \"\"\"\n",
    "def run_filter():\n",
    "    d = {'col1': [1, 2], 'col2': [3, 4]}\n",
    "    df = pandas.DataFrame(data=d)\n",
    "    df.to_csv('pandas-test.csv')\n",
    "\"\"\""
   ]
  },
  {
   "cell_type": "code",
   "execution_count": 42,
   "metadata": {},
   "outputs": [
    {
     "name": "stdout",
     "output_type": "stream",
     "text": [
      "None\n"
     ]
    }
   ],
   "source": [
    "print(runFilterRestricted(test_pandaswrite))"
   ]
  },
  {
   "cell_type": "markdown",
   "metadata": {},
   "source": [
    "#### sklearn"
   ]
  },
  {
   "cell_type": "markdown",
   "metadata": {},
   "source": [
    "Show the following function is valid unrestricted:"
   ]
  },
  {
   "cell_type": "code",
   "execution_count": 43,
   "metadata": {},
   "outputs": [],
   "source": [
    "test_sklearn_unrestricted = \"\"\"\n",
    "def run_filter():\n",
    "    import sklearn.svm\n",
    "    clf = sklearn.svm.SVC(gamma=0.001, C=100.)\n",
    "    return clf\n",
    "\"\"\""
   ]
  },
  {
   "cell_type": "code",
   "execution_count": 44,
   "metadata": {},
   "outputs": [
    {
     "name": "stdout",
     "output_type": "stream",
     "text": [
      "SVC(C=100.0, cache_size=200, class_weight=None, coef0=0.0,\n",
      "  decision_function_shape='ovr', degree=3, gamma=0.001, kernel='rbf',\n",
      "  max_iter=-1, probability=False, random_state=None, shrinking=True,\n",
      "  tol=0.001, verbose=False)\n"
     ]
    }
   ],
   "source": [
    "print(runFilterUnrestricted(test_sklearn_unrestricted))"
   ]
  },
  {
   "cell_type": "code",
   "execution_count": 45,
   "metadata": {},
   "outputs": [],
   "source": [
    "test_sklearn = \"\"\"\n",
    "def run_filter():\n",
    "    clf = sklearn.svm.SVC(gamma=0.001, C=100.)\n",
    "    return clf\n",
    "\"\"\""
   ]
  },
  {
   "cell_type": "code",
   "execution_count": 46,
   "metadata": {},
   "outputs": [
    {
     "name": "stdout",
     "output_type": "stream",
     "text": [
      "SVC(C=100.0, cache_size=200, class_weight=None, coef0=0.0,\n",
      "  decision_function_shape='ovr', degree=3, gamma=0.001, kernel='rbf',\n",
      "  max_iter=-1, probability=False, random_state=None, shrinking=True,\n",
      "  tol=0.001, verbose=False)\n"
     ]
    }
   ],
   "source": [
    "print(runFilterRestricted(test_sklearn))"
   ]
  },
  {
   "cell_type": "markdown",
   "metadata": {},
   "source": [
    "#### astropy"
   ]
  },
  {
   "cell_type": "markdown",
   "metadata": {},
   "source": [
    "Running unrestricted (allowing imports) shows the following function is valid:"
   ]
  },
  {
   "cell_type": "code",
   "execution_count": 47,
   "metadata": {},
   "outputs": [],
   "source": [
    "test_astropy_unrestricted = \"\"\"\n",
    "def run_filter():\n",
    "    from astropy.io import fits\n",
    "    stamp = 'stamp-676.fits'\n",
    "    hdul = fits.open(stamp)\n",
    "    return hdul.info()\n",
    "\"\"\""
   ]
  },
  {
   "cell_type": "code",
   "execution_count": 48,
   "metadata": {},
   "outputs": [
    {
     "name": "stdout",
     "output_type": "stream",
     "text": [
      "Filename: stamp-676.fits\n",
      "No.    Name      Ver    Type      Cards   Dimensions   Format\n",
      "  0  IMAGE         1 PrimaryHDU      35   (31, 31)   float32   \n",
      "  1  MASK          1 ImageHDU        38   (31, 31)   int16 (rescales to uint16)   \n",
      "  2  VARIANCE      1 ImageHDU        36   (31, 31)   float32   \n",
      "  3  PSF           1 ImageHDU         9   (31, 31)   float64   \n",
      "None\n"
     ]
    }
   ],
   "source": [
    "print(runFilterUnrestricted(test_astropy_unrestricted))"
   ]
  },
  {
   "cell_type": "markdown",
   "metadata": {},
   "source": [
    "Running restricted with astropy.io imported in lsst_builtins:"
   ]
  },
  {
   "cell_type": "code",
   "execution_count": 49,
   "metadata": {},
   "outputs": [],
   "source": [
    "test_astropy = \"\"\"\n",
    "def run_filter():\n",
    "    stamp = 'stamp-676.fits'\n",
    "    hdul = astropy.io.fits.open(stamp)\n",
    "    return hdul.info()\n",
    "\"\"\""
   ]
  },
  {
   "cell_type": "code",
   "execution_count": 50,
   "metadata": {},
   "outputs": [
    {
     "name": "stdout",
     "output_type": "stream",
     "text": [
      "Filename: stamp-676.fits\n",
      "No.    Name      Ver    Type      Cards   Dimensions   Format\n",
      "  0  IMAGE         1 PrimaryHDU      35   (31, 31)   float32   \n",
      "  1  MASK          1 ImageHDU        38   (31, 31)   int16 (rescales to uint16)   \n",
      "  2  VARIANCE      1 ImageHDU        36   (31, 31)   float32   \n",
      "  3  PSF           1 ImageHDU         9   (31, 31)   float64   \n",
      "None\n"
     ]
    }
   ],
   "source": [
    "print(runFilterRestricted(test_astropy))"
   ]
  },
  {
   "cell_type": "markdown",
   "metadata": {},
   "source": [
    "#### lsst "
   ]
  },
  {
   "cell_type": "code",
   "execution_count": 51,
   "metadata": {},
   "outputs": [],
   "source": [
    "test_lsst = \"\"\"\n",
    "def run_filter():\n",
    "    exposure = lsst.afw.image.ExposureF('stamp-676.fits')\n",
    "    maskedImage = exposure.getMaskedImage()\n",
    "    statFlags = lsst.afw.math.NPOINT | lsst.afw.math.MEAN | lsst.afw.math.STDEV | lsst.afw.math.MAX | lsst.afw.math.MIN | lsst.afw.math.ERRORS\n",
    "    imageStatistics = lsst.afw.math.makeStatistics(maskedImage, statFlags)\n",
    "    mean = imageStatistics.getResult(lsst.afw.math.MEAN)\n",
    "    return mean\n",
    "\"\"\""
   ]
  },
  {
   "cell_type": "code",
   "execution_count": 52,
   "metadata": {},
   "outputs": [
    {
     "name": "stdout",
     "output_type": "stream",
     "text": [
      "(31.265613677567288, 3.883924127850158)\n"
     ]
    }
   ],
   "source": [
    "print((runFilterRestricted(test_lsst)))\n"
   ]
  },
  {
   "cell_type": "markdown",
   "metadata": {},
   "source": [
    "## Summary\n",
    "\n",
    "RestrictedPython can restrict the main basic modules used for viewing and manipulating files on disk and killing running processes.  Using higher level packages such as pandas can circumvent writes and reads by using included package builtins (such as pandas.to_csv, astropy, lsst packages, e.g.), so whitelisted modules should be carefully considered depending on what we deem safe and allowable for filters."
   ]
  },
  {
   "cell_type": "code",
   "execution_count": null,
   "metadata": {},
   "outputs": [],
   "source": []
  }
 ],
 "metadata": {
  "kernelspec": {
   "display_name": "Python 3",
   "language": "python",
   "name": "python3"
  },
  "language_info": {
   "codemirror_mode": {
    "name": "ipython",
    "version": 3
   },
   "file_extension": ".py",
   "mimetype": "text/x-python",
   "name": "python",
   "nbconvert_exporter": "python",
   "pygments_lexer": "ipython3",
   "version": "3.6.2"
  }
 },
 "nbformat": 4,
 "nbformat_minor": 2
}
